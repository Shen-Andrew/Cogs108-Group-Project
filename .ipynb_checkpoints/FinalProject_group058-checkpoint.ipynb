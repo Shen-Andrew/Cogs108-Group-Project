{
 "cells": [
  {
   "cell_type": "markdown",
   "metadata": {},
   "source": [
    "# COGS 108 - Final Project "
   ]
  },
  {
   "cell_type": "markdown",
   "metadata": {},
   "source": [
    "## Permissions"
   ]
  },
  {
   "cell_type": "markdown",
   "metadata": {},
   "source": [
    "Place an `X` in the appropriate bracket below to specify if you would like your group's project to be made available to the public. (Note that PIDs will be scraped from the public submission, but student names will be included.)\n",
    "\n",
    "* [  ] YES - make available\n",
    "* [  ] NO - keep private"
   ]
  },
  {
   "cell_type": "markdown",
   "metadata": {},
   "source": [
    "# Overview"
   ]
  },
  {
   "cell_type": "markdown",
   "metadata": {},
   "source": [
    "*Fill in your overview here*"
   ]
  },
  {
   "cell_type": "markdown",
   "metadata": {},
   "source": [
    "# Names\n",
    "\n",
    "- Anish Donepudi\n",
    "- Andrew Shen\n",
    "- Ayush More\n",
    "- Ryan Kane\n",
    "- Tanveer Mittal"
   ]
  },
  {
   "cell_type": "markdown",
   "metadata": {},
   "source": [
    "# Group Members IDs\n",
    "\n",
    "- A15473738\n",
    "- A15613105\n",
    "- A15557279\n",
    "- A13397808\n",
    "- A15638113"
   ]
  },
  {
   "cell_type": "markdown",
   "metadata": {},
   "source": [
    "# Research Question"
   ]
  },
  {
   "cell_type": "markdown",
   "metadata": {},
   "source": [
    "        How well can we model the pricing strategies of airbnb rental listings in San Diego? How accurately can we predict prices for new listings?"
   ]
  },
  {
   "cell_type": "markdown",
   "metadata": {},
   "source": [
    "## Background and Prior Work"
   ]
  },
  {
   "cell_type": "markdown",
   "metadata": {},
   "source": [
    "        We, as non-local San Diego residents, have noticed the housing situation and gentrification that exists within the area, contrasting neighborhoods and perspectives from the extravagant mansions Del Mar to compacted housing units of Chula Vista. From personally seeing the strong divide of socio-economic lifestyles, we drew conclusions about the AirBnB price listing, specifically on how the different variables such as the area and types of reviews affect these prices. \n",
    "        Airbnb pricing was a question of interest for our group because many of us are renting or looking to rent places in the San Diego area and Airbnb has been a large source of controversy regarding rental property over the past few years, citing, “Short-term rental hosts have long argued they should have the right to use their properties as a way of supplementing their income while residents have complained about the emergence of “mini hotels” disrupting their once quiet neighborhoods.” (3) Airbnb or short term rentals have a large impact on both renters and hosts as they are a shift from the standard long term contracts that many have to sign and often cheaper than hotels. Looking from the perspective of the host, we want to look at how they determine their prices and what factors affect how they charge their rent. By determining a process to generate the most efficient price it makes it easy for hosts to competitively price their rooms while also lowers prices for renters.\n",
    "        There have been algorithms and programs designed to model and predict the most optimal pricing structures to use however they have a few problems. One such tool created by Dan Hill stated “… the tool still had two weaknesses. The tips it gave were static…” (2) Other models such as BeyondPricing offer professional services such as, “Your listing will be updated daily based on changes in supply and demand in the market, day of week, seasonality, and local events.”(4) but come at a large expense for small term tenants. There are more advanced programs such as an updated tool by Dan Hill which used “... a machine-learning model called a classifier. It uses all of the attributes of a listing and prevailing market demand and then attempts to classify whether it will get booked or not. Our system calculates price tips based on hundreds of attributes… ”(2) The problem with this program is that it used data only accessible by Airbnb themselves and would not be as applicable to rental property outside of Airbnb.\n",
    "\n",
    "\n",
    "References (include links):\n",
    "- 1) https://spectrum.ieee.org/computing/software/the-secret-of-airbnbs-pricing-algorithm\n",
    "- 2) https://www.sandiegouniontribune.com/business/tourism/sd-fi-airbnb-regulations-council-20181022-story.html\n",
    "- 3) https://beyondpricing.com/"
   ]
  },
  {
   "cell_type": "markdown",
   "metadata": {},
   "source": [
    "# Hypothesis\n"
   ]
  },
  {
   "cell_type": "markdown",
   "metadata": {},
   "source": [
    "       Given the information of an AirBnb listing (i.e location, reviews), the model created will be able to accurately predict the price of these listings as well as future prices within those areas. \n",
    "        We believe pricings will be heavily influenced by the area surrounding them, with more expensive listings located near the oceanfront and less expensive listings more inland. The neighborhoods that are closer to the oceanfront like Del Mar are more luxurious and thus expensive compared to areas like Chula Vista.\n",
    "        Also, we predict that AirBnB listings will be more popular during vacation seasons given the San Diego reputation compared to other seasons such as Winter. As a result, we should expect the prices of the listings to fluctuate in accordance with the influx of tourists.\n"
   ]
  },
  {
   "cell_type": "markdown",
   "metadata": {},
   "source": [
    "# Dataset(s)"
   ]
  },
  {
   "cell_type": "markdown",
   "metadata": {},
   "source": [
    "*Fill in your dataset information here*\n",
    "\n",
    "(Copy this information for each dataset)\n",
    "- Dataset Name:\n",
    "- Link to the dataset:\n",
    "- Number of observations:\n",
    "\n",
    "1-2 sentences describing each dataset. \n",
    "\n",
    "If you plan to use multiple datasets, add 1-2 sentences about how you plan to combine these datasets."
   ]
  },
  {
   "cell_type": "markdown",
   "metadata": {},
   "source": [
    "# Setup"
   ]
  },
  {
   "cell_type": "code",
   "execution_count": 1,
   "metadata": {},
   "outputs": [],
   "source": [
    "import pandas as pd\n",
    "from datetime import date, datetime, timedelta"
   ]
  },
  {
   "cell_type": "code",
   "execution_count": 2,
   "metadata": {},
   "outputs": [
    {
     "name": "stderr",
     "output_type": "stream",
     "text": [
      "/opt/conda/lib/python3.6/site-packages/IPython/core/interactiveshell.py:3020: DtypeWarning: Columns (43,94) have mixed types. Specify dtype option on import or set low_memory=False.\n",
      "  interactivity=interactivity, compiler=compiler, result=result)\n"
     ]
    }
   ],
   "source": [
    "listings = pd.read_csv('listings.csv')"
   ]
  },
  {
   "cell_type": "code",
   "execution_count": 3,
   "metadata": {},
   "outputs": [],
   "source": [
    "calendar = pd.read_csv('calendar.csv')"
   ]
  },
  {
   "cell_type": "markdown",
   "metadata": {},
   "source": [
    "# Data Cleaning"
   ]
  },
  {
   "cell_type": "markdown",
   "metadata": {},
   "source": [
    "### Listings"
   ]
  },
  {
   "cell_type": "markdown",
   "metadata": {},
   "source": [
    "Listings is going to have all of our data about each AirBnb room"
   ]
  },
  {
   "cell_type": "code",
   "execution_count": 4,
   "metadata": {},
   "outputs": [
    {
     "data": {
      "text/html": [
       "<div>\n",
       "<style scoped>\n",
       "    .dataframe tbody tr th:only-of-type {\n",
       "        vertical-align: middle;\n",
       "    }\n",
       "\n",
       "    .dataframe tbody tr th {\n",
       "        vertical-align: top;\n",
       "    }\n",
       "\n",
       "    .dataframe thead th {\n",
       "        text-align: right;\n",
       "    }\n",
       "</style>\n",
       "<table border=\"1\" class=\"dataframe\">\n",
       "  <thead>\n",
       "    <tr style=\"text-align: right;\">\n",
       "      <th></th>\n",
       "      <th>id</th>\n",
       "      <th>listing_url</th>\n",
       "      <th>scrape_id</th>\n",
       "      <th>last_scraped</th>\n",
       "      <th>name</th>\n",
       "      <th>summary</th>\n",
       "      <th>space</th>\n",
       "      <th>description</th>\n",
       "      <th>experiences_offered</th>\n",
       "      <th>neighborhood_overview</th>\n",
       "      <th>...</th>\n",
       "      <th>instant_bookable</th>\n",
       "      <th>is_business_travel_ready</th>\n",
       "      <th>cancellation_policy</th>\n",
       "      <th>require_guest_profile_picture</th>\n",
       "      <th>require_guest_phone_verification</th>\n",
       "      <th>calculated_host_listings_count</th>\n",
       "      <th>calculated_host_listings_count_entire_homes</th>\n",
       "      <th>calculated_host_listings_count_private_rooms</th>\n",
       "      <th>calculated_host_listings_count_shared_rooms</th>\n",
       "      <th>reviews_per_month</th>\n",
       "    </tr>\n",
       "  </thead>\n",
       "  <tbody>\n",
       "    <tr>\n",
       "      <th>0</th>\n",
       "      <td>5570</td>\n",
       "      <td>https://www.airbnb.com/rooms/5570</td>\n",
       "      <td>20191121092222</td>\n",
       "      <td>2019-11-21</td>\n",
       "      <td>Ocean front condo on the sand</td>\n",
       "      <td>Missionbeachretreat.   Great Ocean Front Condo...</td>\n",
       "      <td>This charming two bedroom beachfront condomini...</td>\n",
       "      <td>Missionbeachretreat.   Great Ocean Front Condo...</td>\n",
       "      <td>none</td>\n",
       "      <td>While some may compare San Diego’s Mission Bea...</td>\n",
       "      <td>...</td>\n",
       "      <td>f</td>\n",
       "      <td>f</td>\n",
       "      <td>strict_14_with_grace_period</td>\n",
       "      <td>f</td>\n",
       "      <td>f</td>\n",
       "      <td>2</td>\n",
       "      <td>2</td>\n",
       "      <td>0</td>\n",
       "      <td>0</td>\n",
       "      <td>NaN</td>\n",
       "    </tr>\n",
       "    <tr>\n",
       "      <th>1</th>\n",
       "      <td>8488</td>\n",
       "      <td>https://www.airbnb.com/rooms/8488</td>\n",
       "      <td>20191121092222</td>\n",
       "      <td>2019-11-21</td>\n",
       "      <td>Juniper Zen Palace- SD's Best Hood!</td>\n",
       "      <td>Walk every where in San Diegos most charming a...</td>\n",
       "      <td>Private craftsman home in the heart of Histori...</td>\n",
       "      <td>Walk every where in San Diegos most charming a...</td>\n",
       "      <td>none</td>\n",
       "      <td>South Park is a charming community and our nei...</td>\n",
       "      <td>...</td>\n",
       "      <td>f</td>\n",
       "      <td>f</td>\n",
       "      <td>strict_14_with_grace_period</td>\n",
       "      <td>t</td>\n",
       "      <td>t</td>\n",
       "      <td>2</td>\n",
       "      <td>2</td>\n",
       "      <td>0</td>\n",
       "      <td>0</td>\n",
       "      <td>0.36</td>\n",
       "    </tr>\n",
       "    <tr>\n",
       "      <th>2</th>\n",
       "      <td>29967</td>\n",
       "      <td>https://www.airbnb.com/rooms/29967</td>\n",
       "      <td>20191121092222</td>\n",
       "      <td>2019-11-21</td>\n",
       "      <td>Great home, 10 min walk to Beach</td>\n",
       "      <td>This 2 bedroom, 2 full bathroom home offers al...</td>\n",
       "      <td>This two bedroom (1 CA king bed, 1 queen bed),...</td>\n",
       "      <td>This 2 bedroom, 2 full bathroom home offers al...</td>\n",
       "      <td>none</td>\n",
       "      <td>NaN</td>\n",
       "      <td>...</td>\n",
       "      <td>f</td>\n",
       "      <td>f</td>\n",
       "      <td>moderate</td>\n",
       "      <td>f</td>\n",
       "      <td>f</td>\n",
       "      <td>5</td>\n",
       "      <td>5</td>\n",
       "      <td>0</td>\n",
       "      <td>0</td>\n",
       "      <td>0.53</td>\n",
       "    </tr>\n",
       "    <tr>\n",
       "      <th>3</th>\n",
       "      <td>38245</td>\n",
       "      <td>https://www.airbnb.com/rooms/38245</td>\n",
       "      <td>20191121092222</td>\n",
       "      <td>2019-11-21</td>\n",
       "      <td>Point Loma/Liberty Station-NTC</td>\n",
       "      <td>Stay in a 1928 Spanish Style home.  Den is dow...</td>\n",
       "      <td>Please note:  1928 home; remodeled in 2015. Co...</td>\n",
       "      <td>Stay in a 1928 Spanish Style home.  Den is dow...</td>\n",
       "      <td>none</td>\n",
       "      <td>This neighborhood is an expensive, high-end Po...</td>\n",
       "      <td>...</td>\n",
       "      <td>f</td>\n",
       "      <td>f</td>\n",
       "      <td>moderate</td>\n",
       "      <td>t</td>\n",
       "      <td>t</td>\n",
       "      <td>3</td>\n",
       "      <td>0</td>\n",
       "      <td>3</td>\n",
       "      <td>0</td>\n",
       "      <td>1.28</td>\n",
       "    </tr>\n",
       "    <tr>\n",
       "      <th>4</th>\n",
       "      <td>39516</td>\n",
       "      <td>https://www.airbnb.com/rooms/39516</td>\n",
       "      <td>20191121092222</td>\n",
       "      <td>2019-11-21</td>\n",
       "      <td>Art Studio Retreat/Rustic Cabin</td>\n",
       "      <td>We love having explorers from all over the wor...</td>\n",
       "      <td>Nestled in South/North Park, a gentrified neig...</td>\n",
       "      <td>We love having explorers from all over the wor...</td>\n",
       "      <td>none</td>\n",
       "      <td>We love our eclectic neighborhood, with a smal...</td>\n",
       "      <td>...</td>\n",
       "      <td>f</td>\n",
       "      <td>f</td>\n",
       "      <td>strict_14_with_grace_period</td>\n",
       "      <td>t</td>\n",
       "      <td>f</td>\n",
       "      <td>1</td>\n",
       "      <td>1</td>\n",
       "      <td>0</td>\n",
       "      <td>0</td>\n",
       "      <td>3.38</td>\n",
       "    </tr>\n",
       "  </tbody>\n",
       "</table>\n",
       "<p>5 rows × 106 columns</p>\n",
       "</div>"
      ],
      "text/plain": [
       "      id                         listing_url       scrape_id last_scraped  \\\n",
       "0   5570   https://www.airbnb.com/rooms/5570  20191121092222   2019-11-21   \n",
       "1   8488   https://www.airbnb.com/rooms/8488  20191121092222   2019-11-21   \n",
       "2  29967  https://www.airbnb.com/rooms/29967  20191121092222   2019-11-21   \n",
       "3  38245  https://www.airbnb.com/rooms/38245  20191121092222   2019-11-21   \n",
       "4  39516  https://www.airbnb.com/rooms/39516  20191121092222   2019-11-21   \n",
       "\n",
       "                                  name  \\\n",
       "0        Ocean front condo on the sand   \n",
       "1  Juniper Zen Palace- SD's Best Hood!   \n",
       "2     Great home, 10 min walk to Beach   \n",
       "3       Point Loma/Liberty Station-NTC   \n",
       "4      Art Studio Retreat/Rustic Cabin   \n",
       "\n",
       "                                             summary  \\\n",
       "0  Missionbeachretreat.   Great Ocean Front Condo...   \n",
       "1  Walk every where in San Diegos most charming a...   \n",
       "2  This 2 bedroom, 2 full bathroom home offers al...   \n",
       "3  Stay in a 1928 Spanish Style home.  Den is dow...   \n",
       "4  We love having explorers from all over the wor...   \n",
       "\n",
       "                                               space  \\\n",
       "0  This charming two bedroom beachfront condomini...   \n",
       "1  Private craftsman home in the heart of Histori...   \n",
       "2  This two bedroom (1 CA king bed, 1 queen bed),...   \n",
       "3  Please note:  1928 home; remodeled in 2015. Co...   \n",
       "4  Nestled in South/North Park, a gentrified neig...   \n",
       "\n",
       "                                         description experiences_offered  \\\n",
       "0  Missionbeachretreat.   Great Ocean Front Condo...                none   \n",
       "1  Walk every where in San Diegos most charming a...                none   \n",
       "2  This 2 bedroom, 2 full bathroom home offers al...                none   \n",
       "3  Stay in a 1928 Spanish Style home.  Den is dow...                none   \n",
       "4  We love having explorers from all over the wor...                none   \n",
       "\n",
       "                               neighborhood_overview  ... instant_bookable  \\\n",
       "0  While some may compare San Diego’s Mission Bea...  ...                f   \n",
       "1  South Park is a charming community and our nei...  ...                f   \n",
       "2                                                NaN  ...                f   \n",
       "3  This neighborhood is an expensive, high-end Po...  ...                f   \n",
       "4  We love our eclectic neighborhood, with a smal...  ...                f   \n",
       "\n",
       "  is_business_travel_ready          cancellation_policy  \\\n",
       "0                        f  strict_14_with_grace_period   \n",
       "1                        f  strict_14_with_grace_period   \n",
       "2                        f                     moderate   \n",
       "3                        f                     moderate   \n",
       "4                        f  strict_14_with_grace_period   \n",
       "\n",
       "  require_guest_profile_picture require_guest_phone_verification  \\\n",
       "0                             f                                f   \n",
       "1                             t                                t   \n",
       "2                             f                                f   \n",
       "3                             t                                t   \n",
       "4                             t                                f   \n",
       "\n",
       "   calculated_host_listings_count  \\\n",
       "0                               2   \n",
       "1                               2   \n",
       "2                               5   \n",
       "3                               3   \n",
       "4                               1   \n",
       "\n",
       "   calculated_host_listings_count_entire_homes  \\\n",
       "0                                            2   \n",
       "1                                            2   \n",
       "2                                            5   \n",
       "3                                            0   \n",
       "4                                            1   \n",
       "\n",
       "  calculated_host_listings_count_private_rooms  \\\n",
       "0                                            0   \n",
       "1                                            0   \n",
       "2                                            0   \n",
       "3                                            3   \n",
       "4                                            0   \n",
       "\n",
       "   calculated_host_listings_count_shared_rooms  reviews_per_month  \n",
       "0                                            0                NaN  \n",
       "1                                            0               0.36  \n",
       "2                                            0               0.53  \n",
       "3                                            0               1.28  \n",
       "4                                            0               3.38  \n",
       "\n",
       "[5 rows x 106 columns]"
      ]
     },
     "execution_count": 4,
     "metadata": {},
     "output_type": "execute_result"
    }
   ],
   "source": [
    "listings.head()"
   ]
  },
  {
   "cell_type": "markdown",
   "metadata": {},
   "source": [
    "As seen there are over 100 columns. We'll clean Listings to only get the columns informaiton valueable to us."
   ]
  },
  {
   "cell_type": "code",
   "execution_count": 5,
   "metadata": {},
   "outputs": [
    {
     "data": {
      "text/html": [
       "<div>\n",
       "<style scoped>\n",
       "    .dataframe tbody tr th:only-of-type {\n",
       "        vertical-align: middle;\n",
       "    }\n",
       "\n",
       "    .dataframe tbody tr th {\n",
       "        vertical-align: top;\n",
       "    }\n",
       "\n",
       "    .dataframe thead th {\n",
       "        text-align: right;\n",
       "    }\n",
       "</style>\n",
       "<table border=\"1\" class=\"dataframe\">\n",
       "  <thead>\n",
       "    <tr style=\"text-align: right;\">\n",
       "      <th></th>\n",
       "      <th>id</th>\n",
       "      <th>accommodates</th>\n",
       "      <th>bedrooms</th>\n",
       "      <th>beds</th>\n",
       "      <th>zipcode</th>\n",
       "      <th>review_scores_rating</th>\n",
       "    </tr>\n",
       "  </thead>\n",
       "  <tbody>\n",
       "    <tr>\n",
       "      <th>0</th>\n",
       "      <td>5570</td>\n",
       "      <td>6</td>\n",
       "      <td>2.0</td>\n",
       "      <td>4.0</td>\n",
       "      <td>92109</td>\n",
       "      <td>NaN</td>\n",
       "    </tr>\n",
       "    <tr>\n",
       "      <th>1</th>\n",
       "      <td>8488</td>\n",
       "      <td>5</td>\n",
       "      <td>3.0</td>\n",
       "      <td>3.0</td>\n",
       "      <td>92104</td>\n",
       "      <td>97.0</td>\n",
       "    </tr>\n",
       "    <tr>\n",
       "      <th>2</th>\n",
       "      <td>29967</td>\n",
       "      <td>8</td>\n",
       "      <td>2.0</td>\n",
       "      <td>3.0</td>\n",
       "      <td>92109</td>\n",
       "      <td>98.0</td>\n",
       "    </tr>\n",
       "    <tr>\n",
       "      <th>3</th>\n",
       "      <td>38245</td>\n",
       "      <td>1</td>\n",
       "      <td>1.0</td>\n",
       "      <td>1.0</td>\n",
       "      <td>92106</td>\n",
       "      <td>86.0</td>\n",
       "    </tr>\n",
       "    <tr>\n",
       "      <th>4</th>\n",
       "      <td>39516</td>\n",
       "      <td>2</td>\n",
       "      <td>1.0</td>\n",
       "      <td>1.0</td>\n",
       "      <td>92104</td>\n",
       "      <td>98.0</td>\n",
       "    </tr>\n",
       "  </tbody>\n",
       "</table>\n",
       "</div>"
      ],
      "text/plain": [
       "      id  accommodates  bedrooms  beds zipcode  review_scores_rating\n",
       "0   5570             6       2.0   4.0   92109                   NaN\n",
       "1   8488             5       3.0   3.0   92104                  97.0\n",
       "2  29967             8       2.0   3.0   92109                  98.0\n",
       "3  38245             1       1.0   1.0   92106                  86.0\n",
       "4  39516             2       1.0   1.0   92104                  98.0"
      ]
     },
     "execution_count": 5,
     "metadata": {},
     "output_type": "execute_result"
    }
   ],
   "source": [
    "listings = listings[['id','accommodates','bedrooms','beds', 'zipcode', 'review_scores_rating']]\n",
    "listings.head()"
   ]
  },
  {
   "cell_type": "markdown",
   "metadata": {},
   "source": [
    "Here is our final dataframe. These columns in listings are already fairly clean. The missings values in review_scores_rating are just taken to mean a room with a review rating of 0."
   ]
  },
  {
   "cell_type": "markdown",
   "metadata": {},
   "source": [
    "### Calendar"
   ]
  },
  {
   "cell_type": "markdown",
   "metadata": {},
   "source": [
    "Calendar is going to contain the price of each listing on each day"
   ]
  },
  {
   "cell_type": "code",
   "execution_count": 6,
   "metadata": {},
   "outputs": [
    {
     "data": {
      "text/html": [
       "<div>\n",
       "<style scoped>\n",
       "    .dataframe tbody tr th:only-of-type {\n",
       "        vertical-align: middle;\n",
       "    }\n",
       "\n",
       "    .dataframe tbody tr th {\n",
       "        vertical-align: top;\n",
       "    }\n",
       "\n",
       "    .dataframe thead th {\n",
       "        text-align: right;\n",
       "    }\n",
       "</style>\n",
       "<table border=\"1\" class=\"dataframe\">\n",
       "  <thead>\n",
       "    <tr style=\"text-align: right;\">\n",
       "      <th></th>\n",
       "      <th>listing_id</th>\n",
       "      <th>date</th>\n",
       "      <th>available</th>\n",
       "      <th>price</th>\n",
       "      <th>adjusted_price</th>\n",
       "      <th>minimum_nights</th>\n",
       "      <th>maximum_nights</th>\n",
       "    </tr>\n",
       "  </thead>\n",
       "  <tbody>\n",
       "    <tr>\n",
       "      <th>0</th>\n",
       "      <td>5570</td>\n",
       "      <td>2019-11-21</td>\n",
       "      <td>f</td>\n",
       "      <td>$2,050.00</td>\n",
       "      <td>$2,050.00</td>\n",
       "      <td>3</td>\n",
       "      <td>365</td>\n",
       "    </tr>\n",
       "    <tr>\n",
       "      <th>1</th>\n",
       "      <td>5570</td>\n",
       "      <td>2019-11-22</td>\n",
       "      <td>f</td>\n",
       "      <td>$2,050.00</td>\n",
       "      <td>$2,050.00</td>\n",
       "      <td>3</td>\n",
       "      <td>365</td>\n",
       "    </tr>\n",
       "    <tr>\n",
       "      <th>2</th>\n",
       "      <td>5570</td>\n",
       "      <td>2019-11-23</td>\n",
       "      <td>f</td>\n",
       "      <td>$2,050.00</td>\n",
       "      <td>$2,050.00</td>\n",
       "      <td>3</td>\n",
       "      <td>365</td>\n",
       "    </tr>\n",
       "    <tr>\n",
       "      <th>3</th>\n",
       "      <td>5570</td>\n",
       "      <td>2019-11-24</td>\n",
       "      <td>f</td>\n",
       "      <td>$2,050.00</td>\n",
       "      <td>$2,050.00</td>\n",
       "      <td>3</td>\n",
       "      <td>365</td>\n",
       "    </tr>\n",
       "    <tr>\n",
       "      <th>4</th>\n",
       "      <td>5570</td>\n",
       "      <td>2019-11-25</td>\n",
       "      <td>f</td>\n",
       "      <td>$2,050.00</td>\n",
       "      <td>$2,050.00</td>\n",
       "      <td>3</td>\n",
       "      <td>365</td>\n",
       "    </tr>\n",
       "  </tbody>\n",
       "</table>\n",
       "</div>"
      ],
      "text/plain": [
       "   listing_id        date available      price adjusted_price  minimum_nights  \\\n",
       "0        5570  2019-11-21         f  $2,050.00      $2,050.00               3   \n",
       "1        5570  2019-11-22         f  $2,050.00      $2,050.00               3   \n",
       "2        5570  2019-11-23         f  $2,050.00      $2,050.00               3   \n",
       "3        5570  2019-11-24         f  $2,050.00      $2,050.00               3   \n",
       "4        5570  2019-11-25         f  $2,050.00      $2,050.00               3   \n",
       "\n",
       "   maximum_nights  \n",
       "0             365  \n",
       "1             365  \n",
       "2             365  \n",
       "3             365  \n",
       "4             365  "
      ]
     },
     "execution_count": 6,
     "metadata": {},
     "output_type": "execute_result"
    }
   ],
   "source": [
    "calendar.head()"
   ]
  },
  {
   "cell_type": "markdown",
   "metadata": {},
   "source": [
    "Just like listings we will remove all the columns with unnecessary information."
   ]
  },
  {
   "cell_type": "code",
   "execution_count": 8,
   "metadata": {},
   "outputs": [],
   "source": [
    "calendar = calendar[['listing_id','date','price']]"
   ]
  },
  {
   "cell_type": "markdown",
   "metadata": {},
   "source": [
    "This time we'll also drop any rows with missing values."
   ]
  },
  {
   "cell_type": "code",
   "execution_count": 9,
   "metadata": {},
   "outputs": [
    {
     "data": {
      "text/html": [
       "<div>\n",
       "<style scoped>\n",
       "    .dataframe tbody tr th:only-of-type {\n",
       "        vertical-align: middle;\n",
       "    }\n",
       "\n",
       "    .dataframe tbody tr th {\n",
       "        vertical-align: top;\n",
       "    }\n",
       "\n",
       "    .dataframe thead th {\n",
       "        text-align: right;\n",
       "    }\n",
       "</style>\n",
       "<table border=\"1\" class=\"dataframe\">\n",
       "  <thead>\n",
       "    <tr style=\"text-align: right;\">\n",
       "      <th></th>\n",
       "      <th>listing_id</th>\n",
       "      <th>date</th>\n",
       "      <th>price</th>\n",
       "    </tr>\n",
       "  </thead>\n",
       "  <tbody>\n",
       "    <tr>\n",
       "      <th>0</th>\n",
       "      <td>5570</td>\n",
       "      <td>2019-11-21</td>\n",
       "      <td>$2,050.00</td>\n",
       "    </tr>\n",
       "    <tr>\n",
       "      <th>1</th>\n",
       "      <td>5570</td>\n",
       "      <td>2019-11-22</td>\n",
       "      <td>$2,050.00</td>\n",
       "    </tr>\n",
       "    <tr>\n",
       "      <th>2</th>\n",
       "      <td>5570</td>\n",
       "      <td>2019-11-23</td>\n",
       "      <td>$2,050.00</td>\n",
       "    </tr>\n",
       "    <tr>\n",
       "      <th>3</th>\n",
       "      <td>5570</td>\n",
       "      <td>2019-11-24</td>\n",
       "      <td>$2,050.00</td>\n",
       "    </tr>\n",
       "    <tr>\n",
       "      <th>4</th>\n",
       "      <td>5570</td>\n",
       "      <td>2019-11-25</td>\n",
       "      <td>$2,050.00</td>\n",
       "    </tr>\n",
       "    <tr>\n",
       "      <th>...</th>\n",
       "      <td>...</td>\n",
       "      <td>...</td>\n",
       "      <td>...</td>\n",
       "    </tr>\n",
       "    <tr>\n",
       "      <th>4954505</th>\n",
       "      <td>39435249</td>\n",
       "      <td>2020-11-15</td>\n",
       "      <td>$135.00</td>\n",
       "    </tr>\n",
       "    <tr>\n",
       "      <th>4954506</th>\n",
       "      <td>39435249</td>\n",
       "      <td>2020-11-16</td>\n",
       "      <td>$135.00</td>\n",
       "    </tr>\n",
       "    <tr>\n",
       "      <th>4954507</th>\n",
       "      <td>39435249</td>\n",
       "      <td>2020-11-17</td>\n",
       "      <td>$135.00</td>\n",
       "    </tr>\n",
       "    <tr>\n",
       "      <th>4954508</th>\n",
       "      <td>39435249</td>\n",
       "      <td>2020-11-18</td>\n",
       "      <td>$135.00</td>\n",
       "    </tr>\n",
       "    <tr>\n",
       "      <th>4954509</th>\n",
       "      <td>39435249</td>\n",
       "      <td>2020-11-19</td>\n",
       "      <td>$135.00</td>\n",
       "    </tr>\n",
       "  </tbody>\n",
       "</table>\n",
       "<p>4954510 rows × 3 columns</p>\n",
       "</div>"
      ],
      "text/plain": [
       "         listing_id        date      price\n",
       "0              5570  2019-11-21  $2,050.00\n",
       "1              5570  2019-11-22  $2,050.00\n",
       "2              5570  2019-11-23  $2,050.00\n",
       "3              5570  2019-11-24  $2,050.00\n",
       "4              5570  2019-11-25  $2,050.00\n",
       "...             ...         ...        ...\n",
       "4954505    39435249  2020-11-15    $135.00\n",
       "4954506    39435249  2020-11-16    $135.00\n",
       "4954507    39435249  2020-11-17    $135.00\n",
       "4954508    39435249  2020-11-18    $135.00\n",
       "4954509    39435249  2020-11-19    $135.00\n",
       "\n",
       "[4954510 rows x 3 columns]"
      ]
     },
     "execution_count": 9,
     "metadata": {},
     "output_type": "execute_result"
    }
   ],
   "source": [
    "calendar.dropna()"
   ]
  },
  {
   "cell_type": "markdown",
   "metadata": {},
   "source": [
    "The next step is to clean the date and price columns in calendar. To clean data, we will need to convert all objects in data to datatime objects."
   ]
  },
  {
   "cell_type": "code",
   "execution_count": 10,
   "metadata": {},
   "outputs": [],
   "source": [
    "calendar['date'] = pd.to_datetime(calendar['date'])"
   ]
  },
  {
   "cell_type": "markdown",
   "metadata": {},
   "source": [
    "To clean price, we will first create a fuction dollar_to_number. This will convert a string into an number value. Then we will apply it to the price column."
   ]
  },
  {
   "cell_type": "code",
   "execution_count": 12,
   "metadata": {},
   "outputs": [],
   "source": [
    "def dollar_to_number(string):\n",
    "    string = string.replace('$', '')\n",
    "    string = string.replace(',', '')\n",
    "    string = string.replace('.', '')\n",
    "    number = int(string)/100\n",
    "    return number"
   ]
  },
  {
   "cell_type": "code",
   "execution_count": 13,
   "metadata": {},
   "outputs": [],
   "source": [
    "calendar['price'] = calendar['price'].apply(dollar_to_number)"
   ]
  },
  {
   "cell_type": "markdown",
   "metadata": {},
   "source": [
    "Now here is out final dataframe after it has been cleaned."
   ]
  },
  {
   "cell_type": "code",
   "execution_count": 14,
   "metadata": {},
   "outputs": [
    {
     "data": {
      "text/html": [
       "<div>\n",
       "<style scoped>\n",
       "    .dataframe tbody tr th:only-of-type {\n",
       "        vertical-align: middle;\n",
       "    }\n",
       "\n",
       "    .dataframe tbody tr th {\n",
       "        vertical-align: top;\n",
       "    }\n",
       "\n",
       "    .dataframe thead th {\n",
       "        text-align: right;\n",
       "    }\n",
       "</style>\n",
       "<table border=\"1\" class=\"dataframe\">\n",
       "  <thead>\n",
       "    <tr style=\"text-align: right;\">\n",
       "      <th></th>\n",
       "      <th>listing_id</th>\n",
       "      <th>date</th>\n",
       "      <th>price</th>\n",
       "    </tr>\n",
       "  </thead>\n",
       "  <tbody>\n",
       "    <tr>\n",
       "      <th>0</th>\n",
       "      <td>5570</td>\n",
       "      <td>2019-11-21</td>\n",
       "      <td>2050.0</td>\n",
       "    </tr>\n",
       "    <tr>\n",
       "      <th>1</th>\n",
       "      <td>5570</td>\n",
       "      <td>2019-11-22</td>\n",
       "      <td>2050.0</td>\n",
       "    </tr>\n",
       "    <tr>\n",
       "      <th>2</th>\n",
       "      <td>5570</td>\n",
       "      <td>2019-11-23</td>\n",
       "      <td>2050.0</td>\n",
       "    </tr>\n",
       "    <tr>\n",
       "      <th>3</th>\n",
       "      <td>5570</td>\n",
       "      <td>2019-11-24</td>\n",
       "      <td>2050.0</td>\n",
       "    </tr>\n",
       "    <tr>\n",
       "      <th>4</th>\n",
       "      <td>5570</td>\n",
       "      <td>2019-11-25</td>\n",
       "      <td>2050.0</td>\n",
       "    </tr>\n",
       "  </tbody>\n",
       "</table>\n",
       "</div>"
      ],
      "text/plain": [
       "   listing_id       date   price\n",
       "0        5570 2019-11-21  2050.0\n",
       "1        5570 2019-11-22  2050.0\n",
       "2        5570 2019-11-23  2050.0\n",
       "3        5570 2019-11-24  2050.0\n",
       "4        5570 2019-11-25  2050.0"
      ]
     },
     "execution_count": 14,
     "metadata": {},
     "output_type": "execute_result"
    }
   ],
   "source": [
    "calendar.head()"
   ]
  },
  {
   "cell_type": "markdown",
   "metadata": {},
   "source": [
    "# Data Analysis & Results"
   ]
  },
  {
   "cell_type": "markdown",
   "metadata": {},
   "source": [
    "The first setep twoards analyzing the prices for each room is to be able to seperate out different type of rooms from each other. To do that we have a function, filter_room_details, that will take in specific parameters about each room and only return listings that meet those parameters."
   ]
  },
  {
   "cell_type": "code",
   "execution_count": 16,
   "metadata": {},
   "outputs": [],
   "source": [
    "# returns a df with rooms that meet room critera\n",
    "def filter_room_details(df, num_guests, num_bedrooms, num_beds, area, review):\n",
    "    \n",
    "    # get rooms greater than max_num_guests\n",
    "    df_filtered_room = df[(df['accommodates'] ==  num_guests) \n",
    "                        & (df['bedrooms']  >=  num_bedrooms)\n",
    "                        & (df['beds']  >=  num_beds)\n",
    "                        & (df['review_scores_rating']  >=  review)]\n",
    "    \n",
    "    # if area is given get rooms in area\n",
    "    if area != 0:\n",
    "        df_filtered_room = df_filtered_room.loc[df_filtered_room['zipcode']  ==  area]\n",
    "\n",
    "    \n",
    "    return df_filtered_room"
   ]
  },
  {
   "cell_type": "markdown",
   "metadata": {},
   "source": [
    "Here we can test this function by finding all rooms with: \n",
    "- capacity for 6 guests\n",
    "- located in 92109\n",
    "- a review score greater than 80"
   ]
  },
  {
   "cell_type": "code",
   "execution_count": 17,
   "metadata": {},
   "outputs": [
    {
     "data": {
      "text/html": [
       "<div>\n",
       "<style scoped>\n",
       "    .dataframe tbody tr th:only-of-type {\n",
       "        vertical-align: middle;\n",
       "    }\n",
       "\n",
       "    .dataframe tbody tr th {\n",
       "        vertical-align: top;\n",
       "    }\n",
       "\n",
       "    .dataframe thead th {\n",
       "        text-align: right;\n",
       "    }\n",
       "</style>\n",
       "<table border=\"1\" class=\"dataframe\">\n",
       "  <thead>\n",
       "    <tr style=\"text-align: right;\">\n",
       "      <th></th>\n",
       "      <th>id</th>\n",
       "      <th>accommodates</th>\n",
       "      <th>bedrooms</th>\n",
       "      <th>beds</th>\n",
       "      <th>zipcode</th>\n",
       "      <th>review_scores_rating</th>\n",
       "    </tr>\n",
       "  </thead>\n",
       "  <tbody>\n",
       "    <tr>\n",
       "      <th>10</th>\n",
       "      <td>69385</td>\n",
       "      <td>6</td>\n",
       "      <td>3.0</td>\n",
       "      <td>4.0</td>\n",
       "      <td>92109</td>\n",
       "      <td>97.0</td>\n",
       "    </tr>\n",
       "    <tr>\n",
       "      <th>94</th>\n",
       "      <td>395071</td>\n",
       "      <td>6</td>\n",
       "      <td>2.0</td>\n",
       "      <td>5.0</td>\n",
       "      <td>92109</td>\n",
       "      <td>95.0</td>\n",
       "    </tr>\n",
       "    <tr>\n",
       "      <th>187</th>\n",
       "      <td>766826</td>\n",
       "      <td>6</td>\n",
       "      <td>3.0</td>\n",
       "      <td>0.0</td>\n",
       "      <td>92109</td>\n",
       "      <td>99.0</td>\n",
       "    </tr>\n",
       "    <tr>\n",
       "      <th>194</th>\n",
       "      <td>797668</td>\n",
       "      <td>6</td>\n",
       "      <td>2.0</td>\n",
       "      <td>4.0</td>\n",
       "      <td>92109</td>\n",
       "      <td>96.0</td>\n",
       "    </tr>\n",
       "    <tr>\n",
       "      <th>203</th>\n",
       "      <td>821576</td>\n",
       "      <td>6</td>\n",
       "      <td>2.0</td>\n",
       "      <td>2.0</td>\n",
       "      <td>92109</td>\n",
       "      <td>94.0</td>\n",
       "    </tr>\n",
       "    <tr>\n",
       "      <th>...</th>\n",
       "      <td>...</td>\n",
       "      <td>...</td>\n",
       "      <td>...</td>\n",
       "      <td>...</td>\n",
       "      <td>...</td>\n",
       "      <td>...</td>\n",
       "    </tr>\n",
       "    <tr>\n",
       "      <th>7987</th>\n",
       "      <td>26258281</td>\n",
       "      <td>6</td>\n",
       "      <td>2.0</td>\n",
       "      <td>3.0</td>\n",
       "      <td>92109</td>\n",
       "      <td>95.0</td>\n",
       "    </tr>\n",
       "    <tr>\n",
       "      <th>8009</th>\n",
       "      <td>26331580</td>\n",
       "      <td>6</td>\n",
       "      <td>2.0</td>\n",
       "      <td>2.0</td>\n",
       "      <td>92109</td>\n",
       "      <td>87.0</td>\n",
       "    </tr>\n",
       "    <tr>\n",
       "      <th>8058</th>\n",
       "      <td>26452943</td>\n",
       "      <td>6</td>\n",
       "      <td>3.0</td>\n",
       "      <td>3.0</td>\n",
       "      <td>92109</td>\n",
       "      <td>100.0</td>\n",
       "    </tr>\n",
       "    <tr>\n",
       "      <th>8126</th>\n",
       "      <td>26602212</td>\n",
       "      <td>6</td>\n",
       "      <td>2.0</td>\n",
       "      <td>4.0</td>\n",
       "      <td>92109</td>\n",
       "      <td>92.0</td>\n",
       "    </tr>\n",
       "    <tr>\n",
       "      <th>8140</th>\n",
       "      <td>26640240</td>\n",
       "      <td>6</td>\n",
       "      <td>2.0</td>\n",
       "      <td>3.0</td>\n",
       "      <td>92109</td>\n",
       "      <td>100.0</td>\n",
       "    </tr>\n",
       "  </tbody>\n",
       "</table>\n",
       "<p>321 rows × 6 columns</p>\n",
       "</div>"
      ],
      "text/plain": [
       "            id  accommodates  bedrooms  beds zipcode  review_scores_rating\n",
       "10       69385             6       3.0   4.0   92109                  97.0\n",
       "94      395071             6       2.0   5.0   92109                  95.0\n",
       "187     766826             6       3.0   0.0   92109                  99.0\n",
       "194     797668             6       2.0   4.0   92109                  96.0\n",
       "203     821576             6       2.0   2.0   92109                  94.0\n",
       "...        ...           ...       ...   ...     ...                   ...\n",
       "7987  26258281             6       2.0   3.0   92109                  95.0\n",
       "8009  26331580             6       2.0   2.0   92109                  87.0\n",
       "8058  26452943             6       3.0   3.0   92109                 100.0\n",
       "8126  26602212             6       2.0   4.0   92109                  92.0\n",
       "8140  26640240             6       2.0   3.0   92109                 100.0\n",
       "\n",
       "[321 rows x 6 columns]"
      ]
     },
     "execution_count": 17,
     "metadata": {},
     "output_type": "execute_result"
    }
   ],
   "source": [
    "num_guests = 6\n",
    "zipcode = 92109\n",
    "minimum_review = 80\n",
    "\n",
    "df_filter_room_details_test = filter_room_details(listings, num_guests, 0, 0, zipcode, minimum_review)\n",
    "df_filter_room_details_test"
   ]
  },
  {
   "cell_type": "markdown",
   "metadata": {},
   "source": [
    "As you can see there are 321 listings on AirBnb that meet those 3 criteria. Because we did not specify the number of bedrooms or beds, you can see some variance in those between each listing."
   ]
  },
  {
   "cell_type": "markdown",
   "metadata": {},
   "source": [
    "Now we will take the dataframe created from filter_room_details and the users given time frame inorder to gather the prices for each listing over the time span given."
   ]
  },
  {
   "cell_type": "code",
   "execution_count": 18,
   "metadata": {},
   "outputs": [],
   "source": [
    "# returns a df with rooms that meet time critera\n",
    "def filter_timespan(df_listings, df_calendar, start_date, end_date):\n",
    "    \n",
    "    # get a list of days in the timespan\n",
    "    day_list = []\n",
    "    day_count = (end_date - start_date).days + 1\n",
    "    for day in [d for d in (start_date + timedelta(n) for n in range(day_count)) if d <= end_date]:\n",
    "        day_list.append(day)\n",
    "    \n",
    "    # get listing ids from df_listings\n",
    "    id_list = df_listings['id'].to_list()\n",
    "    \n",
    "    #remove ids from df_calendar that are not in id_list\n",
    "    df_calendar_filtered = df_calendar[df_calendar['listing_id'].isin(id_list)]\n",
    "    \n",
    "    #remove dates from df_calendar that are not in day_list\n",
    "    df_calendar_filtered = df_calendar[df_calendar['date'].isin(day_list)]\n",
    "    \n",
    "    # at this point calendar only contains the listings that meet our criteria\n",
    "    # we can drop the listing_id column\n",
    "    df_calendar_filtered = df_calendar_filtered.drop('listing_id', axis = 1)\n",
    "    \n",
    "    # group items by date and find the average price on that day\n",
    "    df_calendar_filtered = df_calendar_filtered.groupby(['date']).mean()\n",
    "    \n",
    "    #convert and return as series\n",
    "    series = pd.Series(df_calendar_filtered['price'])\n",
    "    return series"
   ]
  },
  {
   "cell_type": "markdown",
   "metadata": {},
   "source": [
    "This will return the average prices on each day for all the listings that met our intital criteria."
   ]
  },
  {
   "cell_type": "markdown",
   "metadata": {},
   "source": [
    "To test this function we'll use the filtered data frame from before and specify the time spand to be between the end of December 2019 to the end of December 2020. Its important to note however that our dataset only covers listings and prices between 2019-11-21 and 2020-11-19."
   ]
  },
  {
   "cell_type": "code",
   "execution_count": 25,
   "metadata": {
    "scrolled": true
   },
   "outputs": [
    {
     "data": {
      "text/plain": [
       "date\n",
       "2019-12-31    245.079490\n",
       "2020-01-01    235.330927\n",
       "2020-01-02    217.580374\n",
       "2020-01-03    227.317666\n",
       "2020-01-04    226.509577\n",
       "                 ...    \n",
       "2020-11-15    220.735745\n",
       "2020-11-16    219.767865\n",
       "2020-11-17    220.604685\n",
       "2020-11-18    221.224400\n",
       "2020-11-19    224.404523\n",
       "Name: price, Length: 325, dtype: float64"
      ]
     },
     "execution_count": 25,
     "metadata": {},
     "output_type": "execute_result"
    }
   ],
   "source": [
    "start_date = date(2019, 12, 31)\n",
    "end_date = date(2020, 12, 31)\n",
    "\n",
    "df_timeseries_test = filter_timespan(df_filter_room_details_test, calendar, start_date, end_date)\n",
    "df_timeseries_test"
   ]
  },
  {
   "cell_type": "code",
   "execution_count": 26,
   "metadata": {},
   "outputs": [
    {
     "data": {
      "text/plain": [
       "<matplotlib.axes._subplots.AxesSubplot at 0x7f1f26ae15c0>"
      ]
     },
     "execution_count": 26,
     "metadata": {},
     "output_type": "execute_result"
    },
    {
     "data": {
      "image/png": "[encoded data removed]",
      "text/plain": [
       "<Figure size 432x288 with 1 Axes>"
      ]
     },
     "metadata": {
      "needs_background": "light"
     },
     "output_type": "display_data"
    }
   ],
   "source": [
    "graph = df_timeseries_test.plot.line()\n",
    "graph"
   ]
  },
  {
   "cell_type": "code",
   "execution_count": null,
   "metadata": {},
   "outputs": [],
   "source": []
  },
  {
   "cell_type": "markdown",
   "metadata": {},
   "source": [
    "Here is our series when plotted on a line graph"
   ]
  },
  {
   "cell_type": "markdown",
   "metadata": {},
   "source": [
    "# Ethics & Privacy"
   ]
  },
  {
   "cell_type": "markdown",
   "metadata": {},
   "source": [
    "*Fill in your ethics & privacy discussion here*"
   ]
  },
  {
   "cell_type": "markdown",
   "metadata": {},
   "source": [
    "# Conclusion & Discussion"
   ]
  },
  {
   "cell_type": "markdown",
   "metadata": {},
   "source": [
    "*Fill in your discussion information here*"
   ]
  },
  {
   "cell_type": "markdown",
   "metadata": {},
   "source": [
    "# Team Contributions"
   ]
  },
  {
   "cell_type": "markdown",
   "metadata": {},
   "source": [
    "*Specify who in your group worked on which parts of the project.*"
   ]
  }
 ],
 "metadata": {
  "kernelspec": {
   "display_name": "Python 3",
   "language": "python",
   "name": "python3"
  },
  "language_info": {
   "codemirror_mode": {
    "name": "ipython",
    "version": 3
   },
   "file_extension": ".py",
   "mimetype": "text/x-python",
   "name": "python",
   "nbconvert_exporter": "python",
   "pygments_lexer": "ipython3",
   "version": "3.6.5"
  }
 },
 "nbformat": 4,
 "nbformat_minor": 2
}

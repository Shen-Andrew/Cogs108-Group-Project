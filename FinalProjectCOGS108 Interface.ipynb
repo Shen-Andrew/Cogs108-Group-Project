{
 "cells": [
  {
   "cell_type": "markdown",
   "metadata": {},
   "source": [
    "# Airbnb Price Prediction"
   ]
  },
  {
   "cell_type": "code",
   "execution_count": 1,
   "metadata": {},
   "outputs": [],
   "source": [
    "import numpy as np\n",
    "import pandas as pd\n",
    "import ipywidgets as widgets\n",
    "from IPython.core.display import display, HTML\n",
    "from IPython.display import Javascript, display\n",
    "from ipywidgets import interact, interactive, fixed, interact_manual"
   ]
  },
  {
   "cell_type": "code",
   "execution_count": 2,
   "metadata": {
    "scrolled": true
   },
   "outputs": [
    {
     "name": "stderr",
     "output_type": "stream",
     "text": [
      "C:\\Users\\rpkan\\anaconda3\\lib\\site-packages\\IPython\\core\\interactiveshell.py:3063: DtypeWarning: Columns (43,94) have mixed types.Specify dtype option on import or set low_memory=False.\n",
      "  interactivity=interactivity, compiler=compiler, result=result)\n"
     ]
    }
   ],
   "source": [
    "listings = pd.read_csv(\"data/listings.csv\")\n",
    "zipcodes = listings[\"zipcode\"].astype(str).str.split(\"-\").str[0].unique().astype(np.float64)\n",
    "zipcodes = zipcodes[~np.isnan(zipcodes)].astype(np.int64)"
   ]
  },
  {
   "cell_type": "code",
   "execution_count": 12,
   "metadata": {
    "scrolled": false
   },
   "outputs": [
    {
     "name": "stdout",
     "output_type": "stream",
     "text": [
      "Mandatory Fields\n"
     ]
    },
    {
     "data": {
      "application/vnd.jupyter.widget-view+json": {
       "model_id": "0eec348447fd45a991211cbcc0f9825c",
       "version_major": 2,
       "version_minor": 0
      },
      "text/plain": [
       "DatePicker(value=None, description='Start Date')"
      ]
     },
     "metadata": {},
     "output_type": "display_data"
    },
    {
     "data": {
      "application/vnd.jupyter.widget-view+json": {
       "model_id": "89e4093c27e34a32b74cdd0b95a4fff1",
       "version_major": 2,
       "version_minor": 0
      },
      "text/plain": [
       "DatePicker(value=None, description='End Date')"
      ]
     },
     "metadata": {},
     "output_type": "display_data"
    },
    {
     "data": {
      "application/vnd.jupyter.widget-view+json": {
       "model_id": "f9bc8b9bf69a4ed58a41ce279bb9d665",
       "version_major": 2,
       "version_minor": 0
      },
      "text/plain": [
       "interactive(children=(IntSlider(value=0, description='Guests', max=10), Output()), _dom_classes=('widget-inter…"
      ]
     },
     "metadata": {},
     "output_type": "display_data"
    },
    {
     "name": "stdout",
     "output_type": "stream",
     "text": [
      "\n",
      "\n",
      "Optional Fields\n"
     ]
    },
    {
     "data": {
      "application/vnd.jupyter.widget-view+json": {
       "model_id": "1701a128a7214a47a96e29a30647b9ca",
       "version_major": 2,
       "version_minor": 0
      },
      "text/plain": [
       "interactive(children=(IntSlider(value=0, description='Bedrooms', max=10), Output()), _dom_classes=('widget-int…"
      ]
     },
     "metadata": {},
     "output_type": "display_data"
    },
    {
     "data": {
      "application/vnd.jupyter.widget-view+json": {
       "model_id": "e71fbe19aa6f458db815dcc1a767a52e",
       "version_major": 2,
       "version_minor": 0
      },
      "text/plain": [
       "interactive(children=(IntSlider(value=0, description='Beds', max=10), Output()), _dom_classes=('widget-interac…"
      ]
     },
     "metadata": {},
     "output_type": "display_data"
    },
    {
     "data": {
      "application/vnd.jupyter.widget-view+json": {
       "model_id": "6b8e6f432a7c44afa6330b0996c539c8",
       "version_major": 2,
       "version_minor": 0
      },
      "text/plain": [
       "Dropdown(description='Zip Code:', options=(('All', 0), (92109, 92109), (92104, 92104), (92106, 92106), (92037,…"
      ]
     },
     "metadata": {},
     "output_type": "display_data"
    },
    {
     "data": {
      "application/vnd.jupyter.widget-view+json": {
       "model_id": "454b08ecbda54e44ba95b8fd2cc67429",
       "version_major": 2,
       "version_minor": 0
      },
      "text/plain": [
       "interactive(children=(IntSlider(value=0, description='Ratings', step=5), Output()), _dom_classes=('widget-inte…"
      ]
     },
     "metadata": {},
     "output_type": "display_data"
    },
    {
     "data": {
      "application/vnd.jupyter.widget-view+json": {
       "model_id": "0ed7d84643f749149fc6684d084b19ff",
       "version_major": 2,
       "version_minor": 0
      },
      "text/plain": [
       "Button(description='Confirm Submission', style=ButtonStyle())"
      ]
     },
     "metadata": {},
     "output_type": "display_data"
    },
    {
     "data": {
      "application/javascript": [
       "IPython.notebook.execute_cell_range(IPython.notebook.get_selected_index()+1, IPython.notebook.ncells())"
      ],
      "text/plain": [
       "<IPython.core.display.Javascript object>"
      ]
     },
     "metadata": {},
     "output_type": "display_data"
    },
    {
     "data": {
      "application/javascript": [
       "IPython.notebook.execute_cell_range(IPython.notebook.get_selected_index()+1, IPython.notebook.ncells())"
      ],
      "text/plain": [
       "<IPython.core.display.Javascript object>"
      ]
     },
     "metadata": {},
     "output_type": "display_data"
    }
   ],
   "source": [
    "output_bedrooms_slider = widgets.Text()\n",
    "output_guest_slider = widgets.Text()\n",
    "output_bed_slider = widgets.Text()\n",
    "output_ratings_slider = widgets.Text()\n",
    "\n",
    "print ('Mandatory Fields')\n",
    "start_date_widget = widgets.DatePicker(description='Start Date')\n",
    "end_date_widget = widgets.DatePicker(description='End Date')\n",
    "display(start_date_widget, end_date_widget)\n",
    "\n",
    "\n",
    "def g(Guests):\n",
    "    output_guest_slider.value = str(Guests)\n",
    "\n",
    "interact(g, Guests=widgets.IntSlider(min=0, max=10, step=1));\n",
    "\n",
    "print('\\n')\n",
    "print('Optional Fields')\n",
    "\n",
    "def f(Bedrooms):\n",
    "    output_bedrooms_slider.value = str(Bedrooms)\n",
    "\n",
    "interact(f, Bedrooms =widgets.IntSlider(min=0, max=10, step=1));\n",
    "\n",
    "def b(Beds):\n",
    "    output_bed_slider.value = str(Beds)\n",
    "\n",
    "interact(b, Beds=widgets.IntSlider(min=0, max=10, step=1));\n",
    "\n",
    "\n",
    "zip_code_widget = widgets.Dropdown(options=[(\"All\", 0)] + [(z, z) for z in zipcodes], value=0, description='Zip Code:')\n",
    "\n",
    "display(zip_code_widget)\n",
    "\n",
    "def r(Ratings):\n",
    "    output_ratings_slider.value = str(Ratings)\n",
    "interact(r, Ratings=widgets.IntSlider(min=0, max=100, step=5));\n",
    "\n",
    "def run_all(ev):\n",
    "    display(Javascript('IPython.notebook.execute_cell_range(IPython.notebook.get_selected_index()+1, IPython.notebook.ncells())'))\n",
    "\n",
    "button = widgets.Button(description=\"Confirm Submission\")\n",
    "button.on_click(run_all)\n",
    "display(button)"
   ]
  },
  {
   "cell_type": "code",
   "execution_count": 19,
   "metadata": {},
   "outputs": [],
   "source": [
    "num_bedrooms = int(output_bedrooms_slider.value)\n",
    "num_guests = int(output_guest_slider.value)\n",
    "num_beds = int(output_bed_slider.value)\n",
    "review = int(output_ratings_slider.value)\n",
    "start_date = start_date_widget.value\n",
    "end_date = end_date_widget.value\n",
    "zipcode = zip_code_widget.value"
   ]
  },
  {
   "cell_type": "code",
   "execution_count": 20,
   "metadata": {},
   "outputs": [],
   "source": [
    "assert start_date < end_date\n",
    "assert 0 <= num_bedrooms <= 10\n",
    "assert 0 <= num_beds <= 10\n",
    "assert 1 <= num_guests <= 10\n",
    "assert 0 <= review <= 100\n",
    "assert zipcode in zipcodes or zip_code == 0"
   ]
  },
  {
   "cell_type": "code",
   "execution_count": 21,
   "metadata": {},
   "outputs": [
    {
     "name": "stdout",
     "output_type": "stream",
     "text": [
      " Bedrooms = 0 \n",
      " Guests =   4 \n",
      " Beds =     0 \n",
      " Minimum Rating =  55\n"
     ]
    }
   ],
   "source": [
    "print(' Bedrooms =', num_bedrooms, '\\n', 'Guests =  ', num_guests, '\\n', 'Beds =    ', num_beds, '\\n', 'Minimum Rating = ', review)"
   ]
  },
  {
   "cell_type": "code",
   "execution_count": null,
   "metadata": {},
   "outputs": [],
   "source": []
  }
 ],
 "metadata": {
  "kernelspec": {
   "display_name": "Python 3",
   "language": "python",
   "name": "python3"
  },
  "language_info": {
   "codemirror_mode": {
    "name": "ipython",
    "version": 3
   },
   "file_extension": ".py",
   "mimetype": "text/x-python",
   "name": "python",
   "nbconvert_exporter": "python",
   "pygments_lexer": "ipython3",
   "version": "3.7.6"
  }
 },
 "nbformat": 4,
 "nbformat_minor": 2
}

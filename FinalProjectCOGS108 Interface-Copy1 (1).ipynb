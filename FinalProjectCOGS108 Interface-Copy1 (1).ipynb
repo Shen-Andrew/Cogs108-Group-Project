{
 "cells": [
  {
   "cell_type": "markdown",
   "metadata": {},
   "source": [
    "# Airbnb Price Prediction"
   ]
  },
  {
   "cell_type": "code",
   "execution_count": 1,
   "metadata": {
    "scrolled": false
   },
   "outputs": [
    {
     "data": {
      "text/html": [
       "\n",
       "<form action=\"javascript:code_toggle()\"><input type=\"submit\" id=\"toggleButton\" value=\"Hide/Show Code\"></form>\n"
      ],
      "text/plain": [
       "<IPython.core.display.HTML object>"
      ]
     },
     "metadata": {},
     "output_type": "display_data"
    },
    {
     "data": {
      "application/vnd.jupyter.widget-view+json": {
       "model_id": "a1a3d481a89f43efb3c2f3315a8366c0",
       "version_major": 2,
       "version_minor": 0
      },
      "text/plain": [
       "interactive(children=(IntSlider(value=0, description='Bedrooms', max=10), Output()), _dom_classes=('widget-int…"
      ]
     },
     "metadata": {},
     "output_type": "display_data"
    },
    {
     "data": {
      "application/vnd.jupyter.widget-view+json": {
       "model_id": "2b1daec9c6ac4d8ea927877607b9b748",
       "version_major": 2,
       "version_minor": 0
      },
      "text/plain": [
       "interactive(children=(IntSlider(value=0, description='Guests', max=10), Output()), _dom_classes=('widget-inter…"
      ]
     },
     "metadata": {},
     "output_type": "display_data"
    },
    {
     "data": {
      "application/vnd.jupyter.widget-view+json": {
       "model_id": "674631e2887e40a483e1cc233a607197",
       "version_major": 2,
       "version_minor": 0
      },
      "text/plain": [
       "interactive(children=(IntSlider(value=0, description='Beds', max=10), Output()), _dom_classes=('widget-interac…"
      ]
     },
     "metadata": {},
     "output_type": "display_data"
    },
    {
     "data": {
      "application/vnd.jupyter.widget-view+json": {
       "model_id": "34f474a6f7444a5ca69ad10566ef3ad0",
       "version_major": 2,
       "version_minor": 0
      },
      "text/plain": [
       "DatePicker(value=None, description='Start Date')"
      ]
     },
     "metadata": {},
     "output_type": "display_data"
    },
    {
     "data": {
      "application/vnd.jupyter.widget-view+json": {
       "model_id": "7f011f35d09d44eaa85c27902cee58ad",
       "version_major": 2,
       "version_minor": 0
      },
      "text/plain": [
       "DatePicker(value=None, description='End Date')"
      ]
     },
     "metadata": {},
     "output_type": "display_data"
    },
    {
     "data": {
      "application/vnd.jupyter.widget-view+json": {
       "model_id": "a36168d2dcd34f3c872df8c339634c68",
       "version_major": 2,
       "version_minor": 0
      },
      "text/plain": [
       "Dropdown(description='Zip Code:', index=1, options=(('Any', 1), ('92122', 2), ('92123', 3)), value=2)"
      ]
     },
     "metadata": {},
     "output_type": "display_data"
    },
    {
     "data": {
      "application/vnd.jupyter.widget-view+json": {
       "model_id": "b3ada34f18d449808d6fb1f2d8118277",
       "version_major": 2,
       "version_minor": 0
      },
      "text/plain": [
       "interactive(children=(FloatSlider(value=0.0, description='Ratings', max=5.0, step=0.5), Output()), _dom_classe…"
      ]
     },
     "metadata": {},
     "output_type": "display_data"
    },
    {
     "data": {
      "application/vnd.jupyter.widget-view+json": {
       "model_id": "d8de7aa51c744f8aaf1fb52fda5fc4e7",
       "version_major": 2,
       "version_minor": 0
      },
      "text/plain": [
       "Button(description='Confirm Submission', style=ButtonStyle())"
      ]
     },
     "metadata": {},
     "output_type": "display_data"
    }
   ],
   "source": [
    "from IPython.core.display import display, HTML\n",
    "toggle_code_str = '''\n",
    "<form action=\"javascript:code_toggle()\"><input type=\"submit\" id=\"toggleButton\" value=\"Hide/Show Code\"></form>\n",
    "'''\n",
    "\n",
    "toggle_code_prepare_str = '''\n",
    "    <script>\n",
    "    function code_toggle() {\n",
    "        if ($('div.cell.code_cell.rendered.selected div.input').css('display')!='none'){\n",
    "            $('div.cell.code_cell.rendered.selected div.input').hide();\n",
    "        } else {\n",
    "            $('div.cell.code_cell.rendered.selected div.input').show();\n",
    "        }\n",
    "    }\n",
    "    </script>\n",
    "\n",
    "'''\n",
    "\n",
    "#display(HTML(toggle_code_prepare_str + toggle_code_str))\n",
    "\n",
    "def hide_code():\n",
    "    display(HTML(toggle_code_str))\n",
    "\n",
    "    \n",
    "from ipywidgets import interact, interactive, fixed, interact_manual\n",
    "from IPython.display import Javascript, display\n",
    "import ipywidgets as widgets\n",
    "\n",
    "hide_code()\n",
    "output_bedrooms_slider = widgets.Text()\n",
    "output_guest_slider = widgets.Text()\n",
    "output_bed_slider = widgets.Text()\n",
    "output_ratings_slider = widgets.Text()\n",
    "\n",
    "\n",
    "def f(Bedrooms):\n",
    "    output_bedrooms_slider.value = str(Bedrooms)\n",
    "\n",
    "interact(f, Bedrooms=widgets.IntSlider(min=0, max=10, step=1));\n",
    "\n",
    "def g(Guests):\n",
    "    output_guest_slider.value = str(Guests)\n",
    "\n",
    "interact(g, Guests=widgets.IntSlider(min=0, max=10, step=1));\n",
    "\n",
    "def b(Beds):\n",
    "    output_bed_slider.value = str(Beds)\n",
    "\n",
    "interact(b, Beds=widgets.IntSlider(min=0, max=10, step=1));\n",
    "\n",
    "start_date_widget = widgets.DatePicker(description='Start Date')\n",
    "end_date_widget = widgets.DatePicker(description='End Date')\n",
    "\n",
    "\n",
    "zip_code_widget = widgets.Dropdown(options=[('Any', 1), ('92122', 2), ('92123', 3)],value=2,description='Zip Code:')\n",
    "# Tanveer edit the zip code list here\n",
    "\n",
    "\n",
    "display(start_date_widget, end_date_widget, zip_code_widget)\n",
    "\n",
    "def r(Ratings):\n",
    "    output_ratings_slider.value = str(Ratings)\n",
    "interact(r, Ratings=widgets.FloatSlider(min=0, max=5, step=0.5));\n",
    "\n",
    "def run_all(ev):\n",
    "    display(Javascript('IPython.notebook.execute_cell_range(IPython.notebook.get_selected_index()+1, IPython.notebook.ncells())'))\n",
    "\n",
    "button = widgets.Button(description=\"Confirm Submission\")\n",
    "button.on_click(run_all)\n",
    "display(button)"
   ]
  },
  {
   "cell_type": "code",
   "execution_count": 2,
   "metadata": {},
   "outputs": [
    {
     "name": "stdout",
     "output_type": "stream",
     "text": [
      " Bedrooms = 0 \n",
      " Guests =   0 \n",
      " Beds =     0 \n",
      " Minimum Rating =  0.0\n"
     ]
    },
    {
     "data": {
      "text/html": [
       "\n",
       "<form action=\"javascript:code_toggle()\"><input type=\"submit\" id=\"toggleButton\" value=\"Hide/Show Code\"></form>\n"
      ],
      "text/plain": [
       "<IPython.core.display.HTML object>"
      ]
     },
     "metadata": {},
     "output_type": "display_data"
    }
   ],
   "source": [
    "num_Bedrooms = int(output_bedrooms_slider.value)\n",
    "num_Guests = int(output_guest_slider.value)\n",
    "num_Beds = int(output_bed_slider.value)\n",
    "min_Rating = float(output_ratings_slider.value)\n",
    "start_date = start_date_widget.value\n",
    "end_date = end_date_widget.value\n",
    "\n",
    "print(' Bedrooms =', num_Bedrooms, '\\n', 'Guests =  ', num_Guests, '\\n', 'Beds =    ', num_Beds, '\\n', 'Minimum Rating = ', min_Rating)\n",
    "hide_code()"
   ]
  },
  {
   "cell_type": "code",
   "execution_count": null,
   "metadata": {},
   "outputs": [],
   "source": []
  }
 ],
 "metadata": {
  "kernelspec": {
   "display_name": "Python 3",
   "language": "python",
   "name": "python3"
  },
  "language_info": {
   "codemirror_mode": {
    "name": "ipython",
    "version": 3
   },
   "file_extension": ".py",
   "mimetype": "text/x-python",
   "name": "python",
   "nbconvert_exporter": "python",
   "pygments_lexer": "ipython3",
   "version": "3.6.7"
  }
 },
 "nbformat": 4,
 "nbformat_minor": 2
}
